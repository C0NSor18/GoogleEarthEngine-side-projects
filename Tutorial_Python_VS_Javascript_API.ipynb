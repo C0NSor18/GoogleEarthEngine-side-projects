{
 "cells": [
  {
   "cell_type": "code",
   "execution_count": 1,
   "metadata": {
    "ExecuteTime": {
     "end_time": "2017-03-16T02:29:36.990000",
     "start_time": "2017-03-16T02:29:23.197000"
    },
    "collapsed": false
   },
   "outputs": [
    {
     "name": "stdout",
     "output_type": "stream",
     "text": [
      "aoi area 3405812352.48 sqm\n",
      "S2size: 37\n",
      "CLOUDY_PIXEL_PERCENTAGE 0.1087\n",
      "PRODUCT_ID S2A_OPER_PRD_MSIL1C_PDMC_20160502T191434_R065_V20160502T102027_20160502T102027\n"
     ]
    },
    {
     "data": {
      "text/html": [
       "<img src=\"https://earthengine.googleapis.com//api/thumb?thumbid=0cda2cde0b3e64efb6b5587675263dda&token=7132807d04ff54feb0a52af545857044\"/>"
      ],
      "text/plain": [
       "<IPython.core.display.Image object>"
      ]
     },
     "metadata": {},
     "output_type": "display_data"
    }
   ],
   "source": [
    "######################\n",
    "# 1. GEE Python API: #\n",
    "######################\n",
    "# GEE functions build up JSON dictionary of operations. Call .getInfo() to \n",
    "# evaluate the image/feature/collection object. Server returns object properties as json.\n",
    "# Use in Jupyter Notebook for easy image previews.\n",
    "\n",
    "\n",
    "import ee\n",
    "ee.Initialize()\n",
    "\n",
    "startdate = '2016-03-01'\n",
    "enddate = '2016-05-30'\n",
    "\n",
    "aoi = ee.Geometry.Polygon(\n",
    "        [[[10.4644775390625, 51.17759467314004],\n",
    "          [10.43975830078125, 50.83887470777369],\n",
    "          [11.76910400390625, 50.840609151331336],\n",
    "          [11.7279052734375, 51.17759467314004]]]);\n",
    "print 'aoi area', aoi.area().getInfo(), 'sqm'\n",
    "\n",
    "# Filter Sentinel 2 collection to aoi and dates.\n",
    "S2 = (\n",
    "    ee.ImageCollection('COPERNICUS/S2')\n",
    "        .filterDate(startdate, enddate)\n",
    "        .filterBounds(aoi)\n",
    ")\n",
    "print 'S2size:', S2.size().getInfo()\n",
    "\n",
    "# Select Image of least cloudcover.\n",
    "S2_0 = ee.Image(S2.sort('CLOUDY_PIXEL_PERCENTAGE', True).first())\n",
    "bands = ['B4', 'B3', 'B2']\n",
    "S2_0 = S2_0.select(bands).clip(aoi)\n",
    "\n",
    "print 'CLOUDY_PIXEL_PERCENTAGE', S2_0.getInfo()['properties']['CLOUDY_PIXEL_PERCENTAGE']\n",
    "product_id = S2_0.getInfo()['properties']['PRODUCT_ID']\n",
    "print 'PRODUCT_ID', product_id\n",
    "\n",
    "# Display preview image in Jupyter Notebook.\n",
    "from IPython.display import Image, display, HTML\n",
    "thumburl = S2_0.getThumbUrl({\n",
    "                'min':0, \n",
    "                'max':3000          \n",
    "            })\n",
    "#print thumburl\n",
    "img_thumb = Image(url=thumburl)\n",
    "display(img_thumb)\n",
    "\n",
    "# Export tif to gdrive.\n",
    "task = ee.batch.Export.image(\n",
    "    S2_0.select(bands), \n",
    "    'S2_0', \n",
    "    {'driveFolder':'test_a'})\n",
    "task.start()"
   ]
  },
  {
   "cell_type": "code",
   "execution_count": null,
   "metadata": {
    "collapsed": true
   },
   "outputs": [],
   "source": [
    "##########################\n",
    "# 2. GEE Javascript API: #\n",
    "##########################\n",
    "# Executable in browser interface only https://code.earthengine.google.com/\n",
    "# Avoid .getInfo()! \n",
    "\n",
    "\n",
    "var startdate = '2016-03-01'\n",
    "var enddate = '2016-05-30'\n",
    "\n",
    "var aoi = ee.Geometry.Polygon(\n",
    "        [[[10.4644775390625, 51.17759467314004],\n",
    "          [10.43975830078125, 50.83887470777369],\n",
    "          [11.76910400390625, 50.840609151331336],\n",
    "          [11.7279052734375, 51.17759467314004]]]);\n",
    "print('aoi area', aoi.area(), 'sqm')\n",
    "\n",
    "// Filter Sentinel 2 collection to aoi and dates.\n",
    "var S2 = ee.ImageCollection('COPERNICUS/S2')\n",
    "          .filterDate(startdate, enddate)\n",
    "          .filterBounds(aoi)\n",
    "print('S2size:', S2.size())\n",
    "\n",
    "// Select Image of least cloudcover.\n",
    "var S2_0 = ee.Image(S2.sort('CLOUDY_PIXEL_PERCENTAGE', true).first())\n",
    "var bands = ['B4', 'B3', 'B2']\n",
    "S2_0 = S2_0.select(bands).clip(aoi)\n",
    "\n",
    "print('CLOUDY_PIXEL_PERCENTAGE', S2_0.get('CLOUDY_PIXEL_PERCENTAGE'))\n",
    "var product_id = S2_0.get('PRODUCT_ID')\n",
    "print('PRODUCT_ID', product_id)\n",
    "\n",
    "// Add preview Image to interactive map.\n",
    "Map.addLayer(S2_0, {bands:bands, min:0, max:3000}, 'S2_0')\n",
    "Map.centerObject(aoi)\n",
    "\n",
    "// Export tif to gdrive.\n",
    "Export.image.toDrive({image: S2_0.select(bands),\n",
    "                      description: 'S2_0',\n",
    "                      folder: 'test_a'})"
   ]
  },
  {
   "cell_type": "markdown",
   "metadata": {},
   "source": [
    "<img  src=\"2017-03-16 02 32 05.png\"/>"
   ]
  }
 ],
 "metadata": {
  "kernelspec": {
   "display_name": "Python 2",
   "language": "python",
   "name": "python2"
  },
  "language_info": {
   "codemirror_mode": {
    "name": "ipython",
    "version": 2
   },
   "file_extension": ".py",
   "mimetype": "text/x-python",
   "name": "python",
   "nbconvert_exporter": "python",
   "pygments_lexer": "ipython2",
   "version": "2.7.12"
  },
  "toc": {
   "toc_cell": false,
   "toc_number_sections": true,
   "toc_threshold": 6,
   "toc_window_display": false
  }
 },
 "nbformat": 4,
 "nbformat_minor": 1
}
